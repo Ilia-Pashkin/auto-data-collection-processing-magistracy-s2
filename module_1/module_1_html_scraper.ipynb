{
  "cells": [
    {
      "cell_type": "code",
      "execution_count": null,
      "metadata": {
        "id": "cQOKCzPXbjlf"
      },
      "outputs": [],
      "source": [
        "from bs4 import BeautifulSoup\n",
        "import requests as req\n",
        "import pandas as pd\n",
        "from decimal import *"
      ]
    },
    {
      "cell_type": "code",
      "execution_count": 196,
      "metadata": {
        "id": "XEXxGqeInEaQ"
      },
      "outputs": [],
      "source": [
        "def parse(source: str, source_link=False) -> pd.DataFrame:\n",
        "\n",
        "    if source_link:\n",
        "\n",
        "        web = req.get(source)\n",
        "        soup = BeautifulSoup(web.text, 'html.parser')\n",
        "\n",
        "    else:\n",
        "\n",
        "        soup = BeautifulSoup(source)\n",
        "\n",
        "    df = pd.DataFrame([], columns=['name', 'price', 'old_price', 'sizes_available'])\n",
        "\n",
        "    for i, el in enumerate(soup.findAll('div', class_='offer_item')):\n",
        "\n",
        "        name = el.find('div', class_='name').a.text\n",
        "        price = el.find('div', class_='price')\n",
        "\n",
        "        if el.find('div', class_='sizes_available') is not None:\n",
        "            sizes = [x.text for x in el.find('div', class_='sizes_available').find('div').findAll('a')]\n",
        "            for j, size in enumerate(sizes):\n",
        "                sizes[j] = ''.join([x for x in size if x.isalnum()])\n",
        "        else:\n",
        "            sizes = None\n",
        "\n",
        "        if price.find('span', class_='old-price') is not None:\n",
        "\n",
        "            spec_price = price.find('span', class_='spec-price').text\n",
        "            old_price = price.find('span', class_='old-price').text\n",
        "\n",
        "            df.loc[i] = [name,\n",
        "                        int(''.join([x for x in spec_price if x.isdigit()])),\n",
        "                        int(''.join([x for x in old_price if x.isdigit()])),\n",
        "                        sizes]\n",
        "        else:\n",
        "            price_ = price.find('span').text\n",
        "            df.loc[i] = [name,\n",
        "                        int(''.join([x for x in price_ if x.isdigit()])),\n",
        "                        None,\n",
        "                        sizes]\n",
        "\n",
        "    return df"
      ]
    },
    {
      "cell_type": "code",
      "execution_count": 187,
      "metadata": {
        "colab": {
          "base_uri": "https://localhost:8080/"
        },
        "id": "bxCeNwz6bjlm",
        "outputId": "efe29a1f-2ab7-4621-92f1-e8fe51bb0392"
      },
      "outputs": [
        {
          "output_type": "stream",
          "name": "stdout",
          "text": [
            "name               object\n",
            "price               int64\n",
            "old_price          object\n",
            "sizes_available    object\n",
            "dtype: object\n"
          ]
        }
      ],
      "source": [
        "link = 'https://21-shop.ru/catalog/muzhskoe/odezhda/bryuki/?PAGEN_1=3&more=1'\n",
        "# link = 'https://21-shop.ru/catalog/muzhskoe/aksessuary/ochki/'\n",
        "df = parse(link, True)\n",
        "df\n",
        "print(df.dtypes)"
      ]
    },
    {
      "cell_type": "code",
      "execution_count": null,
      "metadata": {
        "id": "KBVTlQIWe6i6",
        "colab": {
          "base_uri": "https://localhost:8080/"
        },
        "outputId": "5ee666b8-f174-4a43-86e7-2d4a2999c0eb"
      },
      "outputs": [
        {
          "output_type": "stream",
          "name": "stdout",
          "text": [
            "Collecting dominate\n",
            "  Downloading dominate-2.9.1-py2.py3-none-any.whl (29 kB)\n",
            "Installing collected packages: dominate\n",
            "Successfully installed dominate-2.9.1\n"
          ]
        }
      ],
      "source": [
        "!pip install dominate"
      ]
    },
    {
      "cell_type": "code",
      "execution_count": 169,
      "metadata": {
        "id": "TQpnCiZbbjlq"
      },
      "outputs": [],
      "source": [
        "import unittest\n",
        "from dominate import document\n",
        "from dominate.tags import *\n",
        "import numpy as np\n",
        "from pandas.testing import *"
      ]
    },
    {
      "cell_type": "code",
      "execution_count": 197,
      "metadata": {
        "colab": {
          "base_uri": "https://localhost:8080/"
        },
        "id": "J0PNrkUZ-BxI",
        "outputId": "33750f61-d17d-437b-bb66-285615f86e7f"
      },
      "outputs": [
        {
          "output_type": "stream",
          "name": "stderr",
          "text": [
            "test_parser (__main__.TestParser) ... ok\n",
            "\n",
            "----------------------------------------------------------------------\n",
            "Ran 1 test in 0.054s\n",
            "\n",
            "OK\n"
          ]
        },
        {
          "output_type": "execute_result",
          "data": {
            "text/plain": [
              "<unittest.main.TestProgram at 0x7d2fd118ac80>"
            ]
          },
          "metadata": {},
          "execution_count": 197
        }
      ],
      "source": [
        "def generate_html(df: pd.DataFrame) -> str:\n",
        "  with document(title='Shop') as doc:\n",
        "    for index in range(len(df)):\n",
        "\n",
        "      name = df.loc[index]['name']\n",
        "      spec_price = df.loc[index]['price']\n",
        "      old_price = df.loc[index]['old_price']\n",
        "      sizes_available = df.loc[index]['sizes_available']\n",
        "\n",
        "      with div(_class='offer_item'):\n",
        "        with div(_class='name'):\n",
        "          a(name)\n",
        "        with div(_class='price'):\n",
        "          if old_price is not None:\n",
        "            span(old_price, _class='old-price')\n",
        "            span(spec_price, _class='spec-price')\n",
        "          else:\n",
        "            span(spec_price)\n",
        "        if sizes_available is not None:\n",
        "          with div(_class='sizes_available'):\n",
        "            with div():\n",
        "              for i in sizes_available:\n",
        "                a(i)\n",
        "  return doc.render()\n",
        "\n",
        "class TestParser(unittest.TestCase):\n",
        "  def test_parser(self):\n",
        "\n",
        "    columns = ['name', 'price', 'old_price', 'sizes_available']\n",
        "    expected = pd.DataFrame([], columns=columns)\n",
        "\n",
        "    expected.loc[0] = pd.Series(['Брюки', 1111, 2222, ['XX', 'SX']], index=columns)\n",
        "    expected.loc[1] = pd.Series(['Юбки', 3333, None, ['XX', 'SX', 'S', 'M']], index=columns)\n",
        "    expected.loc[2] = pd.Series(['Очки', 4444, None, None], index=columns)\n",
        "    expected[['price']] = expected[['price']].astype('int')\n",
        "\n",
        "    html_page = generate_html(expected)\n",
        "    actual = parse(html_page)\n",
        "\n",
        "    assert_frame_equal(actual, expected)\n",
        "\n",
        "unittest.main(argv=[''], verbosity=2, exit=False)"
      ]
    },
    {
      "cell_type": "code",
      "execution_count": null,
      "metadata": {
        "id": "Or2tSb1vipt4"
      },
      "outputs": [],
      "source": []
    },
    {
      "cell_type": "code",
      "execution_count": null,
      "metadata": {
        "id": "mEn4VXJZnEad"
      },
      "outputs": [],
      "source": []
    }
  ],
  "metadata": {
    "colab": {
      "provenance": []
    },
    "kernelspec": {
      "display_name": "Python 3",
      "language": "python",
      "name": "python3"
    },
    "language_info": {
      "codemirror_mode": {
        "name": "ipython",
        "version": 3
      },
      "file_extension": ".py",
      "mimetype": "text/x-python",
      "name": "python",
      "nbconvert_exporter": "python",
      "pygments_lexer": "ipython3",
      "version": "3.11.5"
    }
  },
  "nbformat": 4,
  "nbformat_minor": 0
}