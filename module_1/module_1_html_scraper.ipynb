{
  "cells": [
    {
      "cell_type": "code",
      "execution_count": 9,
      "metadata": {
        "id": "cQOKCzPXbjlf"
      },
      "outputs": [],
      "source": [
        "from bs4 import BeautifulSoup\n",
        "import requests as req\n",
        "import numpy as np\n",
        "import pandas as pd"
      ]
    },
    {
      "cell_type": "code",
      "execution_count": 10,
      "metadata": {},
      "outputs": [],
      "source": [
        "def parse(source: str, source_link=False) -> pd.DataFrame:\n",
        "\n",
        "    # with open('test_parser.html') as fp:\n",
        "      # soup = BeautifulSoup(fp, 'html.parser')\n",
        "\n",
        "    if source_link:\n",
        "\n",
        "        web = req.get(source)\n",
        "        soup = BeautifulSoup(web.text, 'html.parser')\n",
        "\n",
        "    else:\n",
        "    \n",
        "        soup = BeautifulSoup(source)\n",
        "\n",
        "    df = pd.DataFrame([], columns=['name', 'price', 'old_price', 'sizes_available'])\n",
        "\n",
        "    for i, el in enumerate(soup.findAll('div', class_='offer_item')):\n",
        "\n",
        "        name = el.find('div', class_='name').a.text\n",
        "        price = el.find('div', class_='price')\n",
        "\n",
        "        if el.find('div', class_='sizes_available') is not None:\n",
        "            sizes = [x.text for x in el.find('div', class_='sizes_available').find('div').findAll('a')]\n",
        "            for j, size in enumerate(sizes):\n",
        "                sizes[j] = ''.join([x for x in size if x.isalnum()])\n",
        "        else:\n",
        "            sizes = np.NaN\n",
        "\n",
        "        if price.find('span', class_='old-price') is not None:\n",
        "\n",
        "            spec_price = price.find('span', class_='spec-price').text\n",
        "            old_price = price.find('span', class_='old-price').text\n",
        "\n",
        "            df.loc[i] = [name,\n",
        "                        float(''.join([x for x in spec_price if x.isdigit()])),\n",
        "                        float(''.join([x for x in old_price if x.isdigit()])),\n",
        "                        sizes]\n",
        "        else:\n",
        "            price_ = price.find('span').text\n",
        "            df.loc[i] = [name,\n",
        "                        int(''.join([x for x in price_ if x.isdigit()])),\n",
        "                        np.NaN,\n",
        "                        sizes]\n",
        "\n",
        "    return df"
      ]
    },
    {
      "cell_type": "code",
      "execution_count": 11,
      "metadata": {
        "colab": {
          "base_uri": "https://localhost:8080/",
          "height": 332
        },
        "id": "bxCeNwz6bjlm",
        "outputId": "fa381809-67e0-4256-a1ab-2e3d1d61a031"
      },
      "outputs": [
        {
          "data": {
            "text/html": [
              "<div>\n",
              "<style scoped>\n",
              "    .dataframe tbody tr th:only-of-type {\n",
              "        vertical-align: middle;\n",
              "    }\n",
              "\n",
              "    .dataframe tbody tr th {\n",
              "        vertical-align: top;\n",
              "    }\n",
              "\n",
              "    .dataframe thead th {\n",
              "        text-align: right;\n",
              "    }\n",
              "</style>\n",
              "<table border=\"1\" class=\"dataframe\">\n",
              "  <thead>\n",
              "    <tr style=\"text-align: right;\">\n",
              "      <th></th>\n",
              "      <th>name</th>\n",
              "      <th>price</th>\n",
              "      <th>old_price</th>\n",
              "      <th>sizes_available</th>\n",
              "    </tr>\n",
              "  </thead>\n",
              "  <tbody>\n",
              "    <tr>\n",
              "      <th>0</th>\n",
              "      <td>Очки IZIPIZI SLMSIC33_00 Черепаховые зеркальные</td>\n",
              "      <td>6700</td>\n",
              "      <td>NaN</td>\n",
              "      <td>NaN</td>\n",
              "    </tr>\n",
              "    <tr>\n",
              "      <th>1</th>\n",
              "      <td>Очки IZIPIZI SLMSCC103_00 Черепаховые зеленые ...</td>\n",
              "      <td>6700</td>\n",
              "      <td>NaN</td>\n",
              "      <td>NaN</td>\n",
              "    </tr>\n",
              "    <tr>\n",
              "      <th>2</th>\n",
              "      <td>Очки IZIPIZI SLMSDC145_00 Розовый кварц</td>\n",
              "      <td>6700</td>\n",
              "      <td>NaN</td>\n",
              "      <td>NaN</td>\n",
              "    </tr>\n",
              "    <tr>\n",
              "      <th>3</th>\n",
              "      <td>Очки TRUESPIN Petrichor Black Fade</td>\n",
              "      <td>990</td>\n",
              "      <td>NaN</td>\n",
              "      <td>NaN</td>\n",
              "    </tr>\n",
              "    <tr>\n",
              "      <th>4</th>\n",
              "      <td>Очки TRUESPIN Candor Black</td>\n",
              "      <td>990</td>\n",
              "      <td>NaN</td>\n",
              "      <td>NaN</td>\n",
              "    </tr>\n",
              "    <tr>\n",
              "      <th>5</th>\n",
              "      <td>Очки IZIPIZI NAUTIC NAUTICPAC46_00 Голубо-чере...</td>\n",
              "      <td>7125</td>\n",
              "      <td>NaN</td>\n",
              "      <td>NaN</td>\n",
              "    </tr>\n",
              "    <tr>\n",
              "      <th>6</th>\n",
              "      <td>Очки TRUESPIN Candor Art Black</td>\n",
              "      <td>990</td>\n",
              "      <td>NaN</td>\n",
              "      <td>NaN</td>\n",
              "    </tr>\n",
              "    <tr>\n",
              "      <th>7</th>\n",
              "      <td>Очки TRUESPIN Candor Art White</td>\n",
              "      <td>990</td>\n",
              "      <td>NaN</td>\n",
              "      <td>NaN</td>\n",
              "    </tr>\n",
              "  </tbody>\n",
              "</table>\n",
              "</div>"
            ],
            "text/plain": [
              "                                                name  price  old_price  \\\n",
              "0    Очки IZIPIZI SLMSIC33_00 Черепаховые зеркальные   6700        NaN   \n",
              "1  Очки IZIPIZI SLMSCC103_00 Черепаховые зеленые ...   6700        NaN   \n",
              "2            Очки IZIPIZI SLMSDC145_00 Розовый кварц   6700        NaN   \n",
              "3                 Очки TRUESPIN Petrichor Black Fade    990        NaN   \n",
              "4                         Очки TRUESPIN Candor Black    990        NaN   \n",
              "5  Очки IZIPIZI NAUTIC NAUTICPAC46_00 Голубо-чере...   7125        NaN   \n",
              "6                     Очки TRUESPIN Candor Art Black    990        NaN   \n",
              "7                     Очки TRUESPIN Candor Art White    990        NaN   \n",
              "\n",
              "   sizes_available  \n",
              "0              NaN  \n",
              "1              NaN  \n",
              "2              NaN  \n",
              "3              NaN  \n",
              "4              NaN  \n",
              "5              NaN  \n",
              "6              NaN  \n",
              "7              NaN  "
            ]
          },
          "execution_count": 11,
          "metadata": {},
          "output_type": "execute_result"
        }
      ],
      "source": [
        "# link = 'https://21-shop.ru/catalog/muzhskoe/odezhda/bryuki/?PAGEN_1=3&more=1'\n",
        "link = 'https://21-shop.ru/catalog/muzhskoe/aksessuary/ochki/'\n",
        "df = parse(link, source_link=True)\n",
        "df"
      ]
    },
    {
      "cell_type": "code",
      "execution_count": 11,
      "metadata": {
        "id": "KBVTlQIWe6i6"
      },
      "outputs": [
        {
          "name": "stdout",
          "output_type": "stream",
          "text": [
            "Requirement already satisfied: dominate in d:\\program files\\python\\python311\\lib\\site-packages (2.9.1)\n"
          ]
        },
        {
          "name": "stderr",
          "output_type": "stream",
          "text": [
            "\n",
            "[notice] A new release of pip is available: 23.3.2 -> 24.0\n",
            "[notice] To update, run: python.exe -m pip install --upgrade pip\n"
          ]
        }
      ],
      "source": [
        "!pip install dominate"
      ]
    },
    {
      "cell_type": "code",
      "execution_count": 12,
      "metadata": {
        "id": "TQpnCiZbbjlq"
      },
      "outputs": [],
      "source": [
        "import unittest\n",
        "from dominate import document\n",
        "from dominate.tags import *\n",
        "import numpy as np\n",
        "from pandas.testing import *"
      ]
    },
    {
      "cell_type": "code",
      "execution_count": 13,
      "metadata": {
        "colab": {
          "base_uri": "https://localhost:8080/"
        },
        "id": "J0PNrkUZ-BxI",
        "outputId": "08bc629f-ed04-444d-e74b-c3112778de78"
      },
      "outputs": [
        {
          "name": "stderr",
          "output_type": "stream",
          "text": [
            "test_parser (__main__.TestParser.test_parser) ... FAIL\n",
            "\n",
            "======================================================================\n",
            "FAIL: test_parser (__main__.TestParser.test_parser)\n",
            "----------------------------------------------------------------------\n",
            "Traceback (most recent call last):\n",
            "  File \"C:\\Users\\Ilya\\AppData\\Local\\Temp\\ipykernel_23716\\181152910.py\", line 42, in test_parser\n",
            "    assert_frame_equal(parsed, expected)\n",
            "  File \"d:\\Program Files\\Python\\Python311\\Lib\\site-packages\\pandas\\_testing\\asserters.py\", line 1209, in assert_frame_equal\n",
            "    assert_series_equal(\n",
            "  File \"d:\\Program Files\\Python\\Python311\\Lib\\site-packages\\pandas\\_testing\\asserters.py\", line 918, in assert_series_equal\n",
            "    assert_attr_equal(\"dtype\", left, right, obj=f\"Attributes of {obj}\")\n",
            "  File \"d:\\Program Files\\Python\\Python311\\Lib\\site-packages\\pandas\\_testing\\asserters.py\", line 414, in assert_attr_equal\n",
            "    raise_assert_detail(obj, msg, left_attr, right_attr)\n",
            "  File \"d:\\Program Files\\Python\\Python311\\Lib\\site-packages\\pandas\\_testing\\asserters.py\", line 598, in raise_assert_detail\n",
            "    raise AssertionError(msg)\n",
            "AssertionError: Attributes of DataFrame.iloc[:, 1] (column name=\"price\") are different\n",
            "\n",
            "Attribute \"dtype\" are different\n",
            "[left]:  int64\n",
            "[right]: object\n",
            "\n",
            "----------------------------------------------------------------------\n",
            "Ran 1 test in 0.005s\n",
            "\n",
            "FAILED (failures=1)\n"
          ]
        },
        {
          "data": {
            "text/plain": [
              "<unittest.main.TestProgram at 0x1c61200e2d0>"
            ]
          },
          "execution_count": 13,
          "metadata": {},
          "output_type": "execute_result"
        }
      ],
      "source": [
        "def generate_html(df: pd.DataFrame):\n",
        "\n",
        "\n",
        "  with document(title='Shop') as doc:\n",
        "    for index, row in df.iterrows():\n",
        "\n",
        "      name = row['name']\n",
        "      old_price = row['old_price']\n",
        "      spec_price = row['price']\n",
        "      sizes_available = row['sizes_available']\n",
        "\n",
        "      with div(_class='offer_item'):\n",
        "        with div(_class='name'):\n",
        "          a(name)\n",
        "        with div(_class='price'):\n",
        "          if pd.isna(old_price):\n",
        "            span(spec_price)\n",
        "          else:\n",
        "            span(old_price, _class='old-price')\n",
        "            span(spec_price, _class='spec-price')\n",
        "        if sizes_available is not None:\n",
        "          with div(_class='sizes_available'):\n",
        "            with div():\n",
        "              for i in sizes_available:\n",
        "                a(i)\n",
        "  return doc.render()\n",
        "\n",
        "class TestParser(unittest.TestCase):\n",
        "  def test_parser(self):\n",
        "\n",
        "    test_df = pd.DataFrame([\n",
        "      ['Брюки', 1111,2222, ['XX', 'SX']],\n",
        "      ['Юбки', 3333, None, ['XX', 'SX', 'S', 'M']],\n",
        "      ['Очки', 4444, None, None]\n",
        "    ], columns=['name', 'price', 'old_price', 'sizes_available'], dtype=object)\n",
        "    expected = test_df.replace({np.nan: None})\n",
        "\n",
        "    html_page = generate_html(test_df)\n",
        "    parsed = parse(html_page)\n",
        "\n",
        "    # assert_frame_equal(parsed, expected, check_dtype=False)\n",
        "    assert_frame_equal(parsed, expected)\n",
        "\n",
        "unittest.main(argv=[''], verbosity=2, exit=False)"
      ]
    },
    {
      "cell_type": "code",
      "execution_count": 14,
      "metadata": {
        "colab": {
          "base_uri": "https://localhost:8080/",
          "height": 143
        },
        "id": "Or2tSb1vipt4",
        "outputId": "bc58a4c5-e6d0-4b75-d40d-101a3614b25a"
      },
      "outputs": [
        {
          "ename": "NameError",
          "evalue": "name 'html_page' is not defined",
          "output_type": "error",
          "traceback": [
            "\u001b[1;31m---------------------------------------------------------------------------\u001b[0m",
            "\u001b[1;31mNameError\u001b[0m                                 Traceback (most recent call last)",
            "Cell \u001b[1;32mIn[14], line 1\u001b[0m\n\u001b[1;32m----> 1\u001b[0m result \u001b[38;5;241m=\u001b[39m parse(\u001b[43mhtml_page\u001b[49m)\n\u001b[0;32m      2\u001b[0m result\n",
            "\u001b[1;31mNameError\u001b[0m: name 'html_page' is not defined"
          ]
        }
      ],
      "source": [
        "result = parse(html_page)\n",
        "result"
      ]
    },
    {
      "cell_type": "code",
      "execution_count": null,
      "metadata": {},
      "outputs": [],
      "source": []
    }
  ],
  "metadata": {
    "colab": {
      "provenance": []
    },
    "kernelspec": {
      "display_name": "Python 3",
      "language": "python",
      "name": "python3"
    },
    "language_info": {
      "codemirror_mode": {
        "name": "ipython",
        "version": 3
      },
      "file_extension": ".py",
      "mimetype": "text/x-python",
      "name": "python",
      "nbconvert_exporter": "python",
      "pygments_lexer": "ipython3",
      "version": "3.11.5"
    }
  },
  "nbformat": 4,
  "nbformat_minor": 0
}
