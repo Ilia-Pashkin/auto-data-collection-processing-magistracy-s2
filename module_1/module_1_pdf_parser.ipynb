{
  "cells": [
    {
      "cell_type": "code",
      "source": [
        "!pip install PyPDF2\n",
        "!pip install pdfminer.six"
      ],
      "metadata": {
        "colab": {
          "base_uri": "https://localhost:8080/"
        },
        "id": "KbQHG0L-p-Vs",
        "outputId": "76d871be-f9f5-4be1-e447-e6594b854bfb"
      },
      "execution_count": 1,
      "outputs": [
        {
          "output_type": "stream",
          "name": "stdout",
          "text": [
            "Requirement already satisfied: PyPDF2 in /usr/local/lib/python3.10/dist-packages (3.0.1)\n",
            "Requirement already satisfied: pdfminer.six in /usr/local/lib/python3.10/dist-packages (20231228)\n",
            "Requirement already satisfied: charset-normalizer>=2.0.0 in /usr/local/lib/python3.10/dist-packages (from pdfminer.six) (3.3.2)\n",
            "Requirement already satisfied: cryptography>=36.0.0 in /usr/local/lib/python3.10/dist-packages (from pdfminer.six) (42.0.5)\n",
            "Requirement already satisfied: cffi>=1.12 in /usr/local/lib/python3.10/dist-packages (from cryptography>=36.0.0->pdfminer.six) (1.16.0)\n",
            "Requirement already satisfied: pycparser in /usr/local/lib/python3.10/dist-packages (from cffi>=1.12->cryptography>=36.0.0->pdfminer.six) (2.21)\n"
          ]
        }
      ]
    },
    {
      "cell_type": "code",
      "execution_count": 2,
      "metadata": {
        "id": "7jhN6-EzpzIN"
      },
      "outputs": [],
      "source": [
        "import PyPDF2\n",
        "from pdfminer.high_level import extract_text\n",
        "\n",
        "import pandas as pd\n",
        "from copy import copy"
      ]
    },
    {
      "cell_type": "code",
      "execution_count": 3,
      "metadata": {
        "id": "Uit1xqqFpzIR"
      },
      "outputs": [],
      "source": [
        "def rus(text, alphabet=set('абвгдеёжзийклмнопрстуфхцчшщъыьэюя')):\n",
        "    return not alphabet.isdisjoint(text.lower())"
      ]
    },
    {
      "cell_type": "code",
      "execution_count": 4,
      "metadata": {
        "id": "gBLiWf82pzIT"
      },
      "outputs": [],
      "source": [
        "def eng(text, alphabet=set('abcdefghijklmnopqrstuvwxyz')):\n",
        "    return not alphabet.isdisjoint(text.lower())"
      ]
    },
    {
      "cell_type": "code",
      "execution_count": 139,
      "metadata": {
        "id": "VkLUjvqrpzIU"
      },
      "outputs": [],
      "source": [
        "def find_extract(text: str, text_to_find: str, bias_=0, without_new_str=False, until=None):\n",
        "\n",
        "    idx = text.find(text_to_find) + len(text_to_find) + bias_\n",
        "\n",
        "    list_ = []\n",
        "\n",
        "    if until is None:\n",
        "        while not(eng(text[idx])):\n",
        "            if text[idx] != '\\n':\n",
        "                list_.append(text[idx])\n",
        "            else:\n",
        "                if without_new_str:\n",
        "                    break\n",
        "            idx += 1\n",
        "    else:\n",
        "        while not(text[idx:].find(until) == 0):\n",
        "            list_.append(text[idx])\n",
        "            idx += 1\n",
        "\n",
        "    return(''.join(list_[:-1]))"
      ]
    },
    {
      "cell_type": "code",
      "execution_count": 6,
      "metadata": {
        "id": "wtlkvRNqpzIV"
      },
      "outputs": [],
      "source": [
        "def parse_marks(text):\n",
        "\n",
        "    idx = 0\n",
        "    list_ = []\n",
        "\n",
        "    for i in range(len(text)):\n",
        "        if rus(text[i]) or text[i] == ' ':\n",
        "            list_.append(text[i])\n",
        "\n",
        "    list_ = ''.join(list_).split(' ')\n",
        "\n",
        "    return [x for x in list_ if x in ('удовлетворительно', 'хорошо', 'отлично', 'зачтено')]"
      ]
    },
    {
      "cell_type": "code",
      "execution_count": 7,
      "metadata": {
        "id": "P4NxCIe6pzIX"
      },
      "outputs": [],
      "source": [
        "def parse_diploma_supplement(pdf_path):\n",
        "\n",
        "    pdf_file = open(pdf_path, 'rb')\n",
        "    text = extract_text(pdf_file, password='pass', page_numbers=None, maxpages=0,\n",
        "                        caching=True, codec='utf-8', laparams=None)\n",
        "\n",
        "    general_info = pd.DataFrame([], columns=['family_name', 'date_of_birth', 'access_requirements', 'admitted_to',\n",
        "                                             'graduated_from', 'level_of_education', 'name_of_qualification',\n",
        "                                             'main_field_of_study', 'academic_programme_title', 'professional_trajectory',\n",
        "                                'official_length_of_programme', 'mode_of_study', 'languages_of_instruction_examinations',\n",
        "                                             'graduation_project_theme', 'scientific_supervisor', 'graduation_project_mark', 'all_marks'])\n",
        "\n",
        "    subjects_list = []\n",
        "    subjects_marks_begin_idx = text[text.find('Конец перечня / End of the list'):].find('\\x0c') + text.find('Конец перечня / End of the list') + 2\n",
        "    subjects_begin_idx = subjects_marks_begin_idx\n",
        "\n",
        "    for i in range(3):\n",
        "\n",
        "        marks_begin_idx = min(text[subjects_begin_idx:].find('удовлетворительно'),\n",
        "                              text[subjects_begin_idx:].find('хорошо'),\n",
        "                              text[subjects_begin_idx:].find('отлично'),\n",
        "                              text[subjects_begin_idx:].find('зачтено')) + subjects_begin_idx\n",
        "\n",
        "        idx = marks_begin_idx\n",
        "        count_n = 0\n",
        "        while True:\n",
        "            if text[idx] == '\\n':\n",
        "                count_n += 1\n",
        "            idx -= 1\n",
        "            if count_n >= 8:\n",
        "                break\n",
        "        subjects_end_idx = idx\n",
        "\n",
        "        text1 = text[subjects_begin_idx: subjects_end_idx]\n",
        "\n",
        "        for s in text1.split('\\n\\n'):\n",
        "            subjects_list.append(s.split(' \\n')[0])\n",
        "\n",
        "        subjects_list1 = []\n",
        "        for el in subjects_list:\n",
        "            for symb in el:\n",
        "                drop = True\n",
        "                if rus(symb):\n",
        "                    drop = False\n",
        "                    break\n",
        "            if not drop:\n",
        "                subjects_list1.append(el)\n",
        "        subjects_list = subjects_list1.copy()\n",
        "\n",
        "        subjects_begin_idx = text[subjects_begin_idx:].find('\\x0c') + subjects_begin_idx + 1\n",
        "\n",
        "    marks_end_idx = text[subjects_marks_begin_idx:].find('Конец перечня') + subjects_marks_begin_idx\n",
        "    marks_list = parse_marks(text[subjects_marks_begin_idx:marks_end_idx])\n",
        "\n",
        "    marks_dict = dict()\n",
        "    for i, key in enumerate(subjects_list):\n",
        "        marks_dict[key] = marks_list[i]\n",
        "\n",
        "    general_info.loc[len(general_info)] = [\n",
        "        find_extract(text, 'Family name(s), given name(s) '),\n",
        "        find_extract(text, 'Дата рождения (день/месяц/год)  '),\n",
        "        find_extract(text, 'Access requirements '),\n",
        "        find_extract(text, 'Admitted to '),\n",
        "        find_extract(text, 'Graduated from '),\n",
        "        find_extract(text, 'Level of education '),\n",
        "        find_extract(text, 'Name of qualification '),\n",
        "        find_extract(text, 'Main field of study '),\n",
        "        find_extract(text, 'Academic programme title '),\n",
        "        find_extract(text, 'Профессиональная траектория (профессиональные траектории): '),\n",
        "        find_extract(text, 'Нормативный срок освоения ', without_new_str=True),\n",
        "        find_extract(text, 'Форма обучения  ', without_new_str=True),\n",
        "        find_extract(text, 'Language(s) of instruction / \\nexaminations \\n\\n', without_new_str=True, until='/'),\n",
        "        find_extract(text, 'Completion and defense \\nof graduation project \\n\\n', until='\\nНаучный руководитель').replace('\\n', ''),\n",
        "        find_extract(text, 'Научный руководитель: '),\n",
        "        find_extract(text[text.find('ECTS \\ngrade \\n\\nGrade') + len('ECTS \\ngrade \\n\\nGrade'):], 'ECTS \\ngrade \\n\\nGrade ')[4:],\n",
        "        marks_dict\n",
        "    ]\n",
        "\n",
        "    return general_info"
      ]
    },
    {
      "cell_type": "code",
      "execution_count": 9,
      "metadata": {
        "colab": {
          "base_uri": "https://localhost:8080/",
          "height": 170
        },
        "id": "PwPVGzd0pzIY",
        "outputId": "196b5af5-d3b4-41c5-dfdb-3c774af52cd9"
      },
      "outputs": [
        {
          "output_type": "execute_result",
          "data": {
            "text/plain": [
              "                   family_name date_of_birth  \\\n",
              "0  Рыбаков Сергей Вячеславович    05.07.2000   \n",
              "\n",
              "                                 access_requirements  \\\n",
              "0  Аттестат о среднем общем образовании, выданный...   \n",
              "\n",
              "                                         admitted_to  \\\n",
              "0  Федеральное государственное бюджетное образова...   \n",
              "\n",
              "                                      graduated_from level_of_education  \\\n",
              "0  Федеральном государственном бюджетном образова...        бакалавриат   \n",
              "\n",
              "  name_of_qualification                            main_field_of_study  \\\n",
              "0              Бакалавр  01.03.02  Прикладная математика и информатика   \n",
              "\n",
              "                            academic_programme_title  \\\n",
              "0  Прикладная математика, фундаментальная информа...   \n",
              "\n",
              "                             professional_trajectory  \\\n",
              "0  Математическое и программное обеспечение вычис...   \n",
              "\n",
              "  official_length_of_programme mode_of_study  \\\n",
              "0                       4 года         очная   \n",
              "\n",
              "  languages_of_instruction_examinations  \\\n",
              "0                      English, Russian   \n",
              "\n",
              "                            graduation_project_theme  \\\n",
              "0  Разработка масштабируемой архитектуры игрового...   \n",
              "\n",
              "                    scientific_supervisor graduation_project_mark  \\\n",
              "0  кандидат технических наук И.С.Блеканов                 отлично   \n",
              "\n",
              "                                           all_marks  \n",
              "0  {'1С: Предприятие': 'отлично', 'Алгебра': 'удо...  "
            ],
            "text/html": [
              "\n",
              "  <div id=\"df-c3b8e552-60f3-4171-98b4-500f4c99cc82\" class=\"colab-df-container\">\n",
              "    <div>\n",
              "<style scoped>\n",
              "    .dataframe tbody tr th:only-of-type {\n",
              "        vertical-align: middle;\n",
              "    }\n",
              "\n",
              "    .dataframe tbody tr th {\n",
              "        vertical-align: top;\n",
              "    }\n",
              "\n",
              "    .dataframe thead th {\n",
              "        text-align: right;\n",
              "    }\n",
              "</style>\n",
              "<table border=\"1\" class=\"dataframe\">\n",
              "  <thead>\n",
              "    <tr style=\"text-align: right;\">\n",
              "      <th></th>\n",
              "      <th>family_name</th>\n",
              "      <th>date_of_birth</th>\n",
              "      <th>access_requirements</th>\n",
              "      <th>admitted_to</th>\n",
              "      <th>graduated_from</th>\n",
              "      <th>level_of_education</th>\n",
              "      <th>name_of_qualification</th>\n",
              "      <th>main_field_of_study</th>\n",
              "      <th>academic_programme_title</th>\n",
              "      <th>professional_trajectory</th>\n",
              "      <th>official_length_of_programme</th>\n",
              "      <th>mode_of_study</th>\n",
              "      <th>languages_of_instruction_examinations</th>\n",
              "      <th>graduation_project_theme</th>\n",
              "      <th>scientific_supervisor</th>\n",
              "      <th>graduation_project_mark</th>\n",
              "      <th>all_marks</th>\n",
              "    </tr>\n",
              "  </thead>\n",
              "  <tbody>\n",
              "    <tr>\n",
              "      <th>0</th>\n",
              "      <td>Рыбаков Сергей Вячеславович</td>\n",
              "      <td>05.07.2000</td>\n",
              "      <td>Аттестат о среднем общем образовании, выданный...</td>\n",
              "      <td>Федеральное государственное бюджетное образова...</td>\n",
              "      <td>Федеральном государственном бюджетном образова...</td>\n",
              "      <td>бакалавриат</td>\n",
              "      <td>Бакалавр</td>\n",
              "      <td>01.03.02  Прикладная математика и информатика</td>\n",
              "      <td>Прикладная математика, фундаментальная информа...</td>\n",
              "      <td>Математическое и программное обеспечение вычис...</td>\n",
              "      <td>4 года</td>\n",
              "      <td>очная</td>\n",
              "      <td>English, Russian</td>\n",
              "      <td>Разработка масштабируемой архитектуры игрового...</td>\n",
              "      <td>кандидат технических наук И.С.Блеканов</td>\n",
              "      <td>отлично</td>\n",
              "      <td>{'1С: Предприятие': 'отлично', 'Алгебра': 'удо...</td>\n",
              "    </tr>\n",
              "  </tbody>\n",
              "</table>\n",
              "</div>\n",
              "    <div class=\"colab-df-buttons\">\n",
              "\n",
              "  <div class=\"colab-df-container\">\n",
              "    <button class=\"colab-df-convert\" onclick=\"convertToInteractive('df-c3b8e552-60f3-4171-98b4-500f4c99cc82')\"\n",
              "            title=\"Convert this dataframe to an interactive table.\"\n",
              "            style=\"display:none;\">\n",
              "\n",
              "  <svg xmlns=\"http://www.w3.org/2000/svg\" height=\"24px\" viewBox=\"0 -960 960 960\">\n",
              "    <path d=\"M120-120v-720h720v720H120Zm60-500h600v-160H180v160Zm220 220h160v-160H400v160Zm0 220h160v-160H400v160ZM180-400h160v-160H180v160Zm440 0h160v-160H620v160ZM180-180h160v-160H180v160Zm440 0h160v-160H620v160Z\"/>\n",
              "  </svg>\n",
              "    </button>\n",
              "\n",
              "  <style>\n",
              "    .colab-df-container {\n",
              "      display:flex;\n",
              "      gap: 12px;\n",
              "    }\n",
              "\n",
              "    .colab-df-convert {\n",
              "      background-color: #E8F0FE;\n",
              "      border: none;\n",
              "      border-radius: 50%;\n",
              "      cursor: pointer;\n",
              "      display: none;\n",
              "      fill: #1967D2;\n",
              "      height: 32px;\n",
              "      padding: 0 0 0 0;\n",
              "      width: 32px;\n",
              "    }\n",
              "\n",
              "    .colab-df-convert:hover {\n",
              "      background-color: #E2EBFA;\n",
              "      box-shadow: 0px 1px 2px rgba(60, 64, 67, 0.3), 0px 1px 3px 1px rgba(60, 64, 67, 0.15);\n",
              "      fill: #174EA6;\n",
              "    }\n",
              "\n",
              "    .colab-df-buttons div {\n",
              "      margin-bottom: 4px;\n",
              "    }\n",
              "\n",
              "    [theme=dark] .colab-df-convert {\n",
              "      background-color: #3B4455;\n",
              "      fill: #D2E3FC;\n",
              "    }\n",
              "\n",
              "    [theme=dark] .colab-df-convert:hover {\n",
              "      background-color: #434B5C;\n",
              "      box-shadow: 0px 1px 3px 1px rgba(0, 0, 0, 0.15);\n",
              "      filter: drop-shadow(0px 1px 2px rgba(0, 0, 0, 0.3));\n",
              "      fill: #FFFFFF;\n",
              "    }\n",
              "  </style>\n",
              "\n",
              "    <script>\n",
              "      const buttonEl =\n",
              "        document.querySelector('#df-c3b8e552-60f3-4171-98b4-500f4c99cc82 button.colab-df-convert');\n",
              "      buttonEl.style.display =\n",
              "        google.colab.kernel.accessAllowed ? 'block' : 'none';\n",
              "\n",
              "      async function convertToInteractive(key) {\n",
              "        const element = document.querySelector('#df-c3b8e552-60f3-4171-98b4-500f4c99cc82');\n",
              "        const dataTable =\n",
              "          await google.colab.kernel.invokeFunction('convertToInteractive',\n",
              "                                                    [key], {});\n",
              "        if (!dataTable) return;\n",
              "\n",
              "        const docLinkHtml = 'Like what you see? Visit the ' +\n",
              "          '<a target=\"_blank\" href=https://colab.research.google.com/notebooks/data_table.ipynb>data table notebook</a>'\n",
              "          + ' to learn more about interactive tables.';\n",
              "        element.innerHTML = '';\n",
              "        dataTable['output_type'] = 'display_data';\n",
              "        await google.colab.output.renderOutput(dataTable, element);\n",
              "        const docLink = document.createElement('div');\n",
              "        docLink.innerHTML = docLinkHtml;\n",
              "        element.appendChild(docLink);\n",
              "      }\n",
              "    </script>\n",
              "  </div>\n",
              "\n",
              "    </div>\n",
              "  </div>\n"
            ],
            "application/vnd.google.colaboratory.intrinsic+json": {
              "type": "dataframe",
              "summary": "{\n  \"name\": \"parse_diploma_supplement(pdf_path)\",\n  \"rows\": 1,\n  \"fields\": [\n    {\n      \"column\": \"family_name\",\n      \"properties\": {\n        \"dtype\": \"string\",\n        \"num_unique_values\": 1,\n        \"samples\": [\n          \"\\u0420\\u044b\\u0431\\u0430\\u043a\\u043e\\u0432 \\u0421\\u0435\\u0440\\u0433\\u0435\\u0439 \\u0412\\u044f\\u0447\\u0435\\u0441\\u043b\\u0430\\u0432\\u043e\\u0432\\u0438\\u0447\"\n        ],\n        \"semantic_type\": \"\",\n        \"description\": \"\"\n      }\n    },\n    {\n      \"column\": \"date_of_birth\",\n      \"properties\": {\n        \"dtype\": \"object\",\n        \"num_unique_values\": 1,\n        \"samples\": [\n          \"05.07.2000\"\n        ],\n        \"semantic_type\": \"\",\n        \"description\": \"\"\n      }\n    },\n    {\n      \"column\": \"access_requirements\",\n      \"properties\": {\n        \"dtype\": \"string\",\n        \"num_unique_values\": 1,\n        \"samples\": [\n          \"\\u0410\\u0442\\u0442\\u0435\\u0441\\u0442\\u0430\\u0442 \\u043e \\u0441\\u0440\\u0435\\u0434\\u043d\\u0435\\u043c \\u043e\\u0431\\u0449\\u0435\\u043c \\u043e\\u0431\\u0440\\u0430\\u0437\\u043e\\u0432\\u0430\\u043d\\u0438\\u0438, \\u0432\\u044b\\u0434\\u0430\\u043d\\u043d\\u044b\\u0439 \\u0432 2018 \\u0433\\u043e\\u0434\\u0443. \\u0412\\u0441\\u0442\\u0443\\u043f\\u0438\\u0442\\u0435\\u043b\\u044c\\u043d\\u044b\\u0435 \\u0438\\u0441\\u043f\\u044b\\u0442\\u0430\\u043d\\u0438\\u044f \\u043f\\u0440\\u043e\\u0439\\u0434\\u0435\\u043d\\u044b\"\n        ],\n        \"semantic_type\": \"\",\n        \"description\": \"\"\n      }\n    },\n    {\n      \"column\": \"admitted_to\",\n      \"properties\": {\n        \"dtype\": \"string\",\n        \"num_unique_values\": 1,\n        \"samples\": [\n          \"\\u0424\\u0435\\u0434\\u0435\\u0440\\u0430\\u043b\\u044c\\u043d\\u043e\\u0435 \\u0433\\u043e\\u0441\\u0443\\u0434\\u0430\\u0440\\u0441\\u0442\\u0432\\u0435\\u043d\\u043d\\u043e\\u0435 \\u0431\\u044e\\u0434\\u0436\\u0435\\u0442\\u043d\\u043e\\u0435 \\u043e\\u0431\\u0440\\u0430\\u0437\\u043e\\u0432\\u0430\\u0442\\u0435\\u043b\\u044c\\u043d\\u043e\\u0435 \\u0443\\u0447\\u0440\\u0435\\u0436\\u0434\\u0435\\u043d\\u0438\\u0435 \\u0432\\u044b\\u0441\\u0448\\u0435\\u0433\\u043e \\u043e\\u0431\\u0440\\u0430\\u0437\\u043e\\u0432\\u0430\\u043d\\u0438\\u044f \\u00ab\\u0421\\u0430\\u043d\\u043a\\u0442-\\u041f\\u0435\\u0442\\u0435\\u0440\\u0431\\u0443\\u0440\\u0433\\u0441\\u043a\\u0438\\u0439 \\u0433\\u043e\\u0441\\u0443\\u0434\\u0430\\u0440\\u0441\\u0442\\u0432\\u0435\\u043d\\u043d\\u044b\\u0439 \\u0443\\u043d\\u0438\\u0432\\u0435\\u0440\\u0441\\u0438\\u0442\\u0435\\u0442\\u00bb \\u0432 2018 \\u0433\\u043e\\u0434\\u0443\"\n        ],\n        \"semantic_type\": \"\",\n        \"description\": \"\"\n      }\n    },\n    {\n      \"column\": \"graduated_from\",\n      \"properties\": {\n        \"dtype\": \"string\",\n        \"num_unique_values\": 1,\n        \"samples\": [\n          \"\\u0424\\u0435\\u0434\\u0435\\u0440\\u0430\\u043b\\u044c\\u043d\\u043e\\u043c \\u0433\\u043e\\u0441\\u0443\\u0434\\u0430\\u0440\\u0441\\u0442\\u0432\\u0435\\u043d\\u043d\\u043e\\u043c \\u0431\\u044e\\u0434\\u0436\\u0435\\u0442\\u043d\\u043e\\u043c \\u043e\\u0431\\u0440\\u0430\\u0437\\u043e\\u0432\\u0430\\u0442\\u0435\\u043b\\u044c\\u043d\\u043e\\u043c \\u0443\\u0447\\u0440\\u0435\\u0436\\u0434\\u0435\\u043d\\u0438\\u0438 \\u0432\\u044b\\u0441\\u0448\\u0435\\u0433\\u043e \\u043e\\u0431\\u0440\\u0430\\u0437\\u043e\\u0432\\u0430\\u043d\\u0438\\u044f \\u00ab\\u0421\\u0430\\u043d\\u043a\\u0442-\\u041f\\u0435\\u0442\\u0435\\u0440\\u0431\\u0443\\u0440\\u0433\\u0441\\u043a\\u0438\\u0439 \\u0433\\u043e\\u0441\\u0443\\u0434\\u0430\\u0440\\u0441\\u0442\\u0432\\u0435\\u043d\\u043d\\u044b\\u0439 \\u0443\\u043d\\u0438\\u0432\\u0435\\u0440\\u0441\\u0438\\u0442\\u0435\\u0442\\u00bb \\u0432 2022 \\u0433\\u043e\\u0434\\u0443\"\n        ],\n        \"semantic_type\": \"\",\n        \"description\": \"\"\n      }\n    },\n    {\n      \"column\": \"level_of_education\",\n      \"properties\": {\n        \"dtype\": \"string\",\n        \"num_unique_values\": 1,\n        \"samples\": [\n          \"\\u0431\\u0430\\u043a\\u0430\\u043b\\u0430\\u0432\\u0440\\u0438\\u0430\\u0442\"\n        ],\n        \"semantic_type\": \"\",\n        \"description\": \"\"\n      }\n    },\n    {\n      \"column\": \"name_of_qualification\",\n      \"properties\": {\n        \"dtype\": \"string\",\n        \"num_unique_values\": 1,\n        \"samples\": [\n          \"\\u0411\\u0430\\u043a\\u0430\\u043b\\u0430\\u0432\\u0440\"\n        ],\n        \"semantic_type\": \"\",\n        \"description\": \"\"\n      }\n    },\n    {\n      \"column\": \"main_field_of_study\",\n      \"properties\": {\n        \"dtype\": \"string\",\n        \"num_unique_values\": 1,\n        \"samples\": [\n          \"01.03.02  \\u041f\\u0440\\u0438\\u043a\\u043b\\u0430\\u0434\\u043d\\u0430\\u044f \\u043c\\u0430\\u0442\\u0435\\u043c\\u0430\\u0442\\u0438\\u043a\\u0430 \\u0438 \\u0438\\u043d\\u0444\\u043e\\u0440\\u043c\\u0430\\u0442\\u0438\\u043a\\u0430\"\n        ],\n        \"semantic_type\": \"\",\n        \"description\": \"\"\n      }\n    },\n    {\n      \"column\": \"academic_programme_title\",\n      \"properties\": {\n        \"dtype\": \"string\",\n        \"num_unique_values\": 1,\n        \"samples\": [\n          \"\\u041f\\u0440\\u0438\\u043a\\u043b\\u0430\\u0434\\u043d\\u0430\\u044f \\u043c\\u0430\\u0442\\u0435\\u043c\\u0430\\u0442\\u0438\\u043a\\u0430, \\u0444\\u0443\\u043d\\u0434\\u0430\\u043c\\u0435\\u043d\\u0442\\u0430\\u043b\\u044c\\u043d\\u0430\\u044f \\u0438\\u043d\\u0444\\u043e\\u0440\\u043c\\u0430\\u0442\\u0438\\u043a\\u0430 \\u0438 \\u043f\\u0440\\u043e\\u0433\\u0440\\u0430\\u043c\\u043c\\u0438\\u0440\\u043e\\u0432\\u0430\\u043d\\u0438\\u0435\"\n        ],\n        \"semantic_type\": \"\",\n        \"description\": \"\"\n      }\n    },\n    {\n      \"column\": \"professional_trajectory\",\n      \"properties\": {\n        \"dtype\": \"string\",\n        \"num_unique_values\": 1,\n        \"samples\": [\n          \"\\u041c\\u0430\\u0442\\u0435\\u043c\\u0430\\u0442\\u0438\\u0447\\u0435\\u0441\\u043a\\u043e\\u0435 \\u0438 \\u043f\\u0440\\u043e\\u0433\\u0440\\u0430\\u043c\\u043c\\u043d\\u043e\\u0435 \\u043e\\u0431\\u0435\\u0441\\u043f\\u0435\\u0447\\u0435\\u043d\\u0438\\u0435 \\u0432\\u044b\\u0447\\u0438\\u0441\\u043b\\u0438\\u0442\\u0435\\u043b\\u044c\\u043d\\u044b\\u0445 \\u043c\\u0430\\u0448\\u0438\\u043d\"\n        ],\n        \"semantic_type\": \"\",\n        \"description\": \"\"\n      }\n    },\n    {\n      \"column\": \"official_length_of_programme\",\n      \"properties\": {\n        \"dtype\": \"string\",\n        \"num_unique_values\": 1,\n        \"samples\": [\n          \"4 \\u0433\\u043e\\u0434\\u0430\"\n        ],\n        \"semantic_type\": \"\",\n        \"description\": \"\"\n      }\n    },\n    {\n      \"column\": \"mode_of_study\",\n      \"properties\": {\n        \"dtype\": \"string\",\n        \"num_unique_values\": 1,\n        \"samples\": [\n          \"\\u043e\\u0447\\u043d\\u0430\\u044f\"\n        ],\n        \"semantic_type\": \"\",\n        \"description\": \"\"\n      }\n    },\n    {\n      \"column\": \"languages_of_instruction_examinations\",\n      \"properties\": {\n        \"dtype\": \"string\",\n        \"num_unique_values\": 1,\n        \"samples\": [\n          \"English, Russian\"\n        ],\n        \"semantic_type\": \"\",\n        \"description\": \"\"\n      }\n    },\n    {\n      \"column\": \"graduation_project_theme\",\n      \"properties\": {\n        \"dtype\": \"string\",\n        \"num_unique_values\": 1,\n        \"samples\": [\n          \"\\u0420\\u0430\\u0437\\u0440\\u0430\\u0431\\u043e\\u0442\\u043a\\u0430 \\u043c\\u0430\\u0441\\u0448\\u0442\\u0430\\u0431\\u0438\\u0440\\u0443\\u0435\\u043c\\u043e\\u0439 \\u0430\\u0440\\u0445\\u0438\\u0442\\u0435\\u043a\\u0442\\u0443\\u0440\\u044b \\u0438\\u0433\\u0440\\u043e\\u0432\\u043e\\u0433\\u043e \\u0434\\u0432\\u0438\\u0436\\u043a\\u0430 \\u0441 \\u043f\\u043e\\u043c\\u043e\\u0449\\u044c\\u044e ECS \\u0438 Rust\"\n        ],\n        \"semantic_type\": \"\",\n        \"description\": \"\"\n      }\n    },\n    {\n      \"column\": \"scientific_supervisor\",\n      \"properties\": {\n        \"dtype\": \"string\",\n        \"num_unique_values\": 1,\n        \"samples\": [\n          \"\\u043a\\u0430\\u043d\\u0434\\u0438\\u0434\\u0430\\u0442 \\u0442\\u0435\\u0445\\u043d\\u0438\\u0447\\u0435\\u0441\\u043a\\u0438\\u0445 \\u043d\\u0430\\u0443\\u043a \\u0418.\\u0421.\\u0411\\u043b\\u0435\\u043a\\u0430\\u043d\\u043e\\u0432\"\n        ],\n        \"semantic_type\": \"\",\n        \"description\": \"\"\n      }\n    },\n    {\n      \"column\": \"graduation_project_mark\",\n      \"properties\": {\n        \"dtype\": \"string\",\n        \"num_unique_values\": 1,\n        \"samples\": [\n          \"\\u043e\\u0442\\u043b\\u0438\\u0447\\u043d\\u043e\"\n        ],\n        \"semantic_type\": \"\",\n        \"description\": \"\"\n      }\n    },\n    {\n      \"column\": \"all_marks\",\n      \"properties\": {\n        \"dtype\": \"object\",\n        \"semantic_type\": \"\",\n        \"description\": \"\"\n      }\n    }\n  ]\n}"
            }
          },
          "metadata": {},
          "execution_count": 9
        }
      ],
      "source": [
        "pdf_path = 'РыбаковСергейВячеславович_Supl-1.pdf'\n",
        "\n",
        "parse_diploma_supplement(pdf_path)"
      ]
    },
    {
      "cell_type": "code",
      "execution_count": 10,
      "metadata": {
        "id": "Mi3tN83RpzIc"
      },
      "outputs": [],
      "source": [
        "import unittest"
      ]
    },
    {
      "cell_type": "code",
      "source": [
        "class TestPDFParserFunctions(unittest.TestCase):\n",
        "\n",
        "  def test_rus(self):\n",
        "    self.assertTrue(rus(\"Привет\"))\n",
        "    self.assertFalse(rus(\"Hello\"))\n",
        "    self.assertFalse(rus(\"1234\"))\n",
        "    self.assertFalse(rus(\"\"))\n",
        "\n",
        "  def test_eng(self):\n",
        "    self.assertTrue(eng(\"Hello\"))\n",
        "    self.assertFalse(eng(\"Привет\"))\n",
        "    self.assertFalse(eng(\"1234\"))\n",
        "    self.assertFalse(eng(\"\"))\n",
        "\n",
        "  def test_find_extract(self):\n",
        "    text = 'This is english text. А это русский текст. Now you read another text. Другой \\nрусский текст. End.'\n",
        "\n",
        "    self.assertEqual(find_extract(text, 'text.', bias_=0, without_new_str=False, until=None),  ' А это русский текст.')\n",
        "    self.assertEqual(find_extract(text, ' another text.', bias_=0, without_new_str=False, until=None), ' Другой русский текст.')\n",
        "    self.assertEqual(find_extract(text, 'text.', bias_=0, without_new_str=False, until=\"т\"), ' А ')\n",
        "    self.assertEqual(find_extract(text, 'text.', bias_=1, without_new_str=False, until=\"т\"), 'А ')\n",
        "    self.assertEqual(find_extract(text, 'another text.', bias_=0, without_new_str=True, until=None), ' Другой')\n",
        "    self.assertEqual(find_extract(text, 'another text.', bias_=1, without_new_str=True, until=None), 'Другой')\n",
        "    self.assertEqual(find_extract(text, 'another text.', bias_=1, without_new_str=False, until=None), 'Другой русский текст.')\n",
        "    self.assertEqual(find_extract(text, 'another text.', bias_=1, without_new_str=False, until='текст.'), 'Другой \\nрусский')\n",
        "    self.assertEqual(find_extract(text, 'another text.', bias_=1, without_new_str=True, until='й'), 'Друг')\n",
        "\n",
        "  def test_parse_marks(self):\n",
        "    text_with_marks = \"Оценка по предмету 1: удовлетворительно \\nОценка по предмету 2: отлично\"\n",
        "    self.assertEqual(parse_marks(text_with_marks), [\"удовлетворительно\", \"отлично\"])\n",
        "\n",
        "    text_without_marks = \"No marks are available.\"\n",
        "    self.assertEqual(parse_marks(text_without_marks), [])\n",
        "\n",
        "    text_with_symbols = \"Оценки: предмет 1: удовлетворительно; предмет 2:хорошо, предмет3: отлично.\"\n",
        "    self.assertEqual(parse_marks(text_with_symbols), ['удовлетворительно', 'хорошо', 'отлично'])\n",
        "\n",
        "    text_with_new_str = \"Оценки:\\nПредмет 1: удовлетворительно\\nПредмет 2:хорошо\\nПредмет 3: отлично\\n\"\n",
        "    self.assertEqual(parse_marks(text_with_new_str), ['отлично'])\n",
        "\n",
        "\n",
        "  def test_valid_pdf(self):\n",
        "    pdf_path = 'РыбаковСергейВячеславович_Supl-1.pdf'\n",
        "    result = parse_diploma_supplement(pdf_path)\n",
        "\n",
        "    self.assertIsInstance(result, pd.DataFrame)\n",
        "    self.assertFalse(result.empty)\n",
        "\n",
        "  def test_invalid_pdf_path(self):\n",
        "    pdf_path = 'path/to/nonexistent.pdf'\n",
        "\n",
        "    with self.assertRaises(FileNotFoundError):\n",
        "      parse_diploma_supplement(pdf_path)\n"
      ],
      "metadata": {
        "id": "6E1TV4WBvlIF"
      },
      "execution_count": 192,
      "outputs": []
    },
    {
      "cell_type": "code",
      "source": [
        "unittest.main(argv=[''], verbosity=2, exit=False)"
      ],
      "metadata": {
        "colab": {
          "base_uri": "https://localhost:8080/"
        },
        "id": "4fkyYZplwtF_",
        "outputId": "95142220-8d15-4abf-8f1d-1d6372b6d89d"
      },
      "execution_count": 193,
      "outputs": [
        {
          "output_type": "stream",
          "name": "stderr",
          "text": [
            "test_eng (__main__.TestPDFParserFunctions) ... ok\n",
            "test_find_extract (__main__.TestPDFParserFunctions) ... ok\n",
            "test_invalid_pdf_path (__main__.TestPDFParserFunctions) ... ok\n",
            "test_parse_marks (__main__.TestPDFParserFunctions) ... ok\n",
            "test_rus (__main__.TestPDFParserFunctions) ... ok\n",
            "test_valid_pdf (__main__.TestPDFParserFunctions) ... ok\n",
            "test_invalid_pdf_path (__main__.TestParseDiplomaSupplement) ... ok\n",
            "test_valid_pdf (__main__.TestParseDiplomaSupplement) ... ok\n",
            "\n",
            "----------------------------------------------------------------------\n",
            "Ran 8 tests in 4.366s\n",
            "\n",
            "OK\n"
          ]
        },
        {
          "output_type": "execute_result",
          "data": {
            "text/plain": [
              "<unittest.main.TestProgram at 0x7fd62faf30a0>"
            ]
          },
          "metadata": {},
          "execution_count": 193
        }
      ]
    }
  ],
  "metadata": {
    "kernelspec": {
      "display_name": "Python 3",
      "language": "python",
      "name": "python3"
    },
    "language_info": {
      "codemirror_mode": {
        "name": "ipython",
        "version": 3
      },
      "file_extension": ".py",
      "mimetype": "text/x-python",
      "name": "python",
      "nbconvert_exporter": "python",
      "pygments_lexer": "ipython3",
      "version": "3.11.5"
    },
    "colab": {
      "provenance": []
    }
  },
  "nbformat": 4,
  "nbformat_minor": 0
}